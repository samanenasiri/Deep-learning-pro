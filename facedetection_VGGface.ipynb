{
  "nbformat": 4,
  "nbformat_minor": 0,
  "metadata": {
    "colab": {
      "name": "facedetection_VGGface.ipynb",
      "provenance": [],
      "collapsed_sections": []
    },
    "kernelspec": {
      "name": "python3",
      "display_name": "Python 3"
    },
    "language_info": {
      "name": "python"
    },
    "gpuClass": "standard"
  },
  "cells": [
    {
      "cell_type": "code",
      "source": [
        "from google.colab import drive\n",
        "drive.mount('/content/drive')\n",
        "%cd /content/drive/My Drive"
      ],
      "metadata": {
        "id": "_sELbiM_5rPq",
        "colab": {
          "base_uri": "https://localhost:8080/"
        },
        "outputId": "d2b7bb34-716b-4a97-a8f4-1b1d2636905b"
      },
      "execution_count": null,
      "outputs": [
        {
          "output_type": "stream",
          "name": "stdout",
          "text": [
            "Mounted at /content/drive\n",
            "/content/drive/My Drive\n"
          ]
        }
      ]
    },
    {
      "cell_type": "code",
      "source": [
        "from __future__ import print_function\n",
        "import keras\n",
        "from keras.preprocessing.image import ImageDataGenerator\n",
        "from keras.models import Sequential\n",
        "from keras.layers import Dense, Dropout, Activation, Flatten, BatchNormalization\n",
        "from keras.layers import Conv2D, MaxPooling2D\n",
        "from keras.preprocessing.image import ImageDataGenerator\n",
        "import os\n",
        "from os import listdir\n",
        "from os.path import isfile, join\n",
        "import os\n",
        "import cv2\n",
        "import dlib\n",
        "import numpy as np\n",
        "\n",
        "num_classes = 4\n",
        "img_rows, img_cols = 48, 48\n",
        "batch_size = 16\n",
        "\n",
        "train_data_dir = './25. Face Recognition/faces/train'\n",
        "validation_data_dir = './25. Face Recognition/faces/validation'\n",
        "\n",
        "# Let's use some data augmentaiton \n",
        "train_datagen = ImageDataGenerator(\n",
        "      rescale=1./255,\n",
        "      rotation_range=30,\n",
        "      shear_range=0.3,\n",
        "      zoom_range=0.3,\n",
        "      width_shift_range=0.4,\n",
        "      height_shift_range=0.4,\n",
        "      horizontal_flip=True,\n",
        "      fill_mode='nearest')\n",
        " \n",
        "validation_datagen = ImageDataGenerator(rescale=1./255)\n",
        " \n",
        "train_generator = train_datagen.flow_from_directory(\n",
        "        train_data_dir,\n",
        "        target_size=(img_rows, img_cols),\n",
        "        batch_size=batch_size,\n",
        "        class_mode='categorical',\n",
        "        shuffle=True)\n",
        " \n",
        "validation_generator = validation_datagen.flow_from_directory(\n",
        "        validation_data_dir,\n",
        "        target_size=(img_rows, img_cols),\n",
        "        batch_size=batch_size,\n",
        "        class_mode='categorical',\n",
        "        shuffle=True)"
      ],
      "metadata": {
        "id": "IQzXnU8Xfj30",
        "colab": {
          "base_uri": "https://localhost:8080/"
        },
        "outputId": "5548410b-6c0e-4598-bb06-0a30b20c29a9"
      },
      "execution_count": null,
      "outputs": [
        {
          "output_type": "stream",
          "name": "stdout",
          "text": [
            "Found 2719 images belonging to 4 classes.\n",
            "Found 955 images belonging to 4 classes.\n"
          ]
        }
      ]
    },
    {
      "cell_type": "code",
      "source": [
        "#Our Keras imports\n",
        "from keras.models import Sequential\n",
        "from keras.layers.convolutional import Conv2D, MaxPooling2D\n",
        "from keras.layers.advanced_activations import ELU\n",
        "from keras.layers.core import Activation, Flatten, Dropout, Dense"
      ],
      "metadata": {
        "id": "pwIP_ml6frXX"
      },
      "execution_count": null,
      "outputs": []
    },
    {
      "cell_type": "markdown",
      "source": [
        " Creating a simple VGG based model for Face Recognition"
      ],
      "metadata": {
        "id": "nzFnKRLefzTS"
      }
    },
    {
      "cell_type": "code",
      "source": [
        "class_labels = validation_generator.class_indices\n",
        "class_labels = {v: k for k, v in class_labels.items()}\n",
        "classes = list(class_labels.values())\n",
        "class_labels"
      ],
      "metadata": {
        "id": "VauGdBXOf0un",
        "colab": {
          "base_uri": "https://localhost:8080/"
        },
        "outputId": "a36d9798-c51c-4541-cadd-fe231dcced4f"
      },
      "execution_count": null,
      "outputs": [
        {
          "output_type": "execute_result",
          "data": {
            "text/plain": [
              "{0: 'Chandler', 1: 'Joey', 2: 'Pheobe', 3: 'Rachel'}"
            ]
          },
          "metadata": {},
          "execution_count": 5
        }
      ]
    },
    {
      "cell_type": "code",
      "source": [],
      "metadata": {
        "id": "sjuiYM3cV8YU"
      },
      "execution_count": null,
      "outputs": []
    },
    {
      "cell_type": "code",
      "source": [
        "# Import our libaries\n",
        "from keras.models import Model, Sequential\n",
        "from keras.layers import Input, Convolution2D, ZeroPadding2D, MaxPooling2D, Flatten, Dense, Dropout, Activation\n",
        "from PIL import Image\n",
        "import numpy as np\n",
        "from keras.preprocessing.image import load_img, save_img, img_to_array\n",
        "from keras.applications.imagenet_utils import preprocess_input\n",
        "from keras.preprocessing import image\n",
        "import matplotlib.pyplot as plt"
      ],
      "metadata": {
        "id": "szhd4mmwV8ic"
      },
      "execution_count": null,
      "outputs": []
    },
    {
      "cell_type": "code",
      "source": [
        "model = Sequential()\n",
        "model.add(ZeroPadding2D((1,1),input_shape=(224,224, 3)))\n",
        "model.add(Convolution2D(64, (3, 3), activation='relu'))\n",
        "model.add(ZeroPadding2D((1,1)))\n",
        "model.add(Convolution2D(64, (3, 3), activation='relu'))\n",
        "model.add(MaxPooling2D((2,2), strides=(2,2)))\n",
        "\n",
        "model.add(ZeroPadding2D((1,1)))\n",
        "model.add(Convolution2D(128, (3, 3), activation='relu'))\n",
        "model.add(ZeroPadding2D((1,1)))\n",
        "model.add(Convolution2D(128, (3, 3), activation='relu'))\n",
        "model.add(MaxPooling2D((2,2), strides=(2,2)))\n",
        "\n",
        "model.add(ZeroPadding2D((1,1)))\n",
        "model.add(Convolution2D(256, (3, 3), activation='relu'))\n",
        "model.add(ZeroPadding2D((1,1)))\n",
        "model.add(Convolution2D(256, (3, 3), activation='relu'))\n",
        "model.add(ZeroPadding2D((1,1)))\n",
        "model.add(Convolution2D(256, (3, 3), activation='relu'))\n",
        "model.add(MaxPooling2D((2,2), strides=(2,2)))\n",
        "\n",
        "model.add(ZeroPadding2D((1,1)))\n",
        "model.add(Convolution2D(512, (3, 3), activation='relu'))\n",
        "model.add(ZeroPadding2D((1,1)))\n",
        "model.add(Convolution2D(512, (3, 3), activation='relu'))\n",
        "model.add(ZeroPadding2D((1,1)))\n",
        "model.add(Convolution2D(512, (3, 3), activation='relu'))\n",
        "model.add(MaxPooling2D((2,2), strides=(2,2)))\n",
        "\n",
        "model.add(ZeroPadding2D((1,1)))\n",
        "model.add(Convolution2D(512, (3, 3), activation='relu'))\n",
        "model.add(ZeroPadding2D((1,1)))\n",
        "model.add(Convolution2D(512, (3, 3), activation='relu'))\n",
        "model.add(ZeroPadding2D((1,1)))\n",
        "model.add(Convolution2D(512, (3, 3), activation='relu'))\n",
        "model.add(MaxPooling2D((2,2), strides=(2,2)))\n",
        "\n",
        "model.add(Convolution2D(4096, (7, 7), activation='relu'))\n",
        "model.add(Dropout(0.5))\n",
        "model.add(Convolution2D(4096, (1, 1), activation='relu'))\n",
        "model.add(Dropout(0.5))\n",
        "model.add(Convolution2D(2622, (1, 1)))\n",
        "model.add(Flatten())\n",
        "model.add(Activation('softmax'))"
      ],
      "metadata": {
        "id": "5PX_TD_OYWMM"
      },
      "execution_count": null,
      "outputs": []
    },
    {
      "cell_type": "code",
      "source": [
        "\n",
        "from keras.models import model_from_json\n",
        "model.load_weights('./25. Face Recognition/vgg_face_weights.h5')"
      ],
      "metadata": {
        "id": "VGyNanfxYWOk"
      },
      "execution_count": null,
      "outputs": []
    },
    {
      "cell_type": "code",
      "source": [
        "def preprocess_image(image_path):\n",
        "    img = load_img(image_path, target_size=(224, 224))\n",
        "    img = img_to_array(img)\n",
        "    img = np.expand_dims(img, axis=0)\n",
        "    img = preprocess_input(img)\n",
        "    return img\n",
        "\n",
        "def findCosineSimilarity(source_representation, test_representation):\n",
        "    a = np.matmul(np.transpose(source_representation), test_representation)\n",
        "    b = np.sum(np.multiply(source_representation, source_representation))\n",
        "    c = np.sum(np.multiply(test_representation, test_representation))\n",
        "    return 1 - (a / (np.sqrt(b) * np.sqrt(c)))\n",
        "\n",
        "\n",
        "vgg_face_descriptor = Model(inputs=model.layers[0].input, outputs=model.layers[-2].output)"
      ],
      "metadata": {
        "id": "P2wBdGRwYWRs"
      },
      "execution_count": null,
      "outputs": []
    },
    {
      "cell_type": "code",
      "source": [
        "epsilon = 0.40\n",
        "\n",
        "def verifyFace(img1, img2):\n",
        "    img1_representation = vgg_face_descriptor.predict(preprocess_image('./25. Face Recognition/training_faces/%s' % (img1)))[0,:]\n",
        "    img2_representation = vgg_face_descriptor.predict(preprocess_image('./25. Face Recognition/training_faces/%s' % (img2)))[0,:]\n",
        "    \n",
        "    cosine_similarity = findCosineSimilarity(img1_representation, img2_representation)\n",
        "    \n",
        "    f = plt.figure()\n",
        "    f.add_subplot(1,2, 1)\n",
        "    plt.imshow(image.load_img('./25. Face Recognition/training_faces/%s' % (img1)))\n",
        "    plt.xticks([]); plt.yticks([])\n",
        "    f.add_subplot(1,2, 2)\n",
        "    plt.imshow(image.load_img('./25. Face Recognition/training_faces/%s' % (img2)))\n",
        "    plt.xticks([]); plt.yticks([])\n",
        "    plt.show(block=True)\n",
        "    \n",
        "    print(\"Cosine similarity: \",cosine_similarity)\n",
        "    \n",
        "    if(cosine_similarity < epsilon):\n",
        "        print(\"They are same person\")\n",
        "    else:\n",
        "        print(\"They are not same person!\")"
      ],
      "metadata": {
        "id": "8-OwAUhzYWUF"
      },
      "execution_count": null,
      "outputs": []
    },
    {
      "cell_type": "code",
      "source": [
        "verifyFace(\"angelina.jpg\", \"angelina.jpg\")"
      ],
      "metadata": {
        "id": "FrqneSVsYWXT",
        "colab": {
          "base_uri": "https://localhost:8080/",
          "height": 222
        },
        "outputId": "dabd4fb4-9b1b-4ecf-809a-436d324ce583"
      },
      "execution_count": null,
      "outputs": [
        {
          "output_type": "display_data",
          "data": {
            "text/plain": [
              "<Figure size 432x288 with 2 Axes>"
            ],
            "image/png": "[encoded data removed]"
          },
          "metadata": {}
        },
        {
          "output_type": "stream",
          "name": "stdout",
          "text": [
            "Cosine similarity:  0.5536709427833557\n",
            "They are not same person!\n"
          ]
        }
      ]
    },
    {
      "cell_type": "code",
      "source": [],
      "metadata": {
        "id": "d4Mzpab_YWZt"
      },
      "execution_count": null,
      "outputs": []
    },
    {
      "cell_type": "code",
      "source": [],
      "metadata": {
        "id": "zaYsP63uYWcV"
      },
      "execution_count": null,
      "outputs": []
    },
    {
      "cell_type": "code",
      "source": [],
      "metadata": {
        "id": "LH-iIIKRheg3"
      },
      "execution_count": null,
      "outputs": []
    },
    {
      "cell_type": "code",
      "source": [],
      "metadata": {
        "id": "yMRwAYoPhejd"
      },
      "execution_count": null,
      "outputs": []
    },
    {
      "cell_type": "code",
      "source": [],
      "metadata": {
        "id": "zgd62DVYhlcL"
      },
      "execution_count": null,
      "outputs": []
    },
    {
      "cell_type": "code",
      "source": [
        "# The code below extracts faces from images and places them in the folder\n",
        "from os import listdir\n",
        "from os.path import isfile, join\n",
        "import cv2\n",
        "\n",
        "# Loading out HAARCascade Face Detector \n",
        "face_detector = cv2.CascadeClassifier('Haarcascades/haarcascade_frontalface_default.xml')\n",
        "\n",
        "# Directory of image of persons we'll be extracting faces frommy\n",
        "mypath = \"./people/\"\n",
        "image_file_names = [f for f in listdir(mypath) if isfile(join(mypath, f))]\n",
        "print(\"Collected image names\")\n",
        "\n",
        "for image_name in image_file_names:\n",
        "    person_image = cv2.imread(mypath+image_name)\n",
        "    face_info = face_detector.detectMultiScale(person_image, 1.3, 5)\n",
        "    for (x,y,w,h) in face_info:\n",
        "        face = person_image[y:y+h, x:x+w]\n",
        "        roi = cv2.resize(face, (128, 128), interpolation = cv2.INTER_CUBIC)\n",
        "    path = \"./group_of_faces/\" + \"face_\" + image_name \n",
        "    cv2.imwrite(path, roi)\n",
        "    cv2.imshow(\"face\", roi)\n",
        "    \n",
        "    cv2.waitKey(0)\n",
        "cv2.destroyAllWindows()"
      ],
      "metadata": {
        "id": "kYyCt4Q3hley"
      },
      "execution_count": null,
      "outputs": []
    },
    {
      "cell_type": "code",
      "source": [
        "#author Sefik Ilkin Serengil\n",
        "#you can find the documentation of this code from the following link: https://sefiks.com/2018/08/06/deep-face-recognition-with-keras/\n",
        "\n",
        "import numpy as np\n",
        "import cv2\n",
        "\n",
        "from keras.models import Model, Sequential\n",
        "from keras.layers import Input, Convolution2D, ZeroPadding2D, MaxPooling2D, Flatten, Dense, Dropout, Activation\n",
        "from PIL import Image\n",
        "from keras.preprocessing.image import load_img, save_img, img_to_array\n",
        "from keras.applications.imagenet_utils import preprocess_input\n",
        "from keras.preprocessing import image\n",
        "import matplotlib.pyplot as plt\n",
        "from os import listdir\n",
        "\n",
        "def preprocess_image(image_path):\n",
        "    \"\"\"Loads image from path and resizes it\"\"\"\n",
        "    img = load_img(image_path, target_size=(224, 224))\n",
        "    img = img_to_array(img)\n",
        "    img = np.expand_dims(img, axis=0)\n",
        "    img = preprocess_input(img)\n",
        "    return img\n",
        "\n",
        "def loadVggFaceModel():\n",
        "    \"\"\"Loads the VGGFace model defined in the function\"\"\"\n",
        "    model = Sequential()\n",
        "    model.add(ZeroPadding2D((1,1),input_shape=(224,224, 3)))\n",
        "    model.add(Convolution2D(64, (3, 3), activation='relu'))\n",
        "    model.add(ZeroPadding2D((1,1)))\n",
        "    model.add(Convolution2D(64, (3, 3), activation='relu'))\n",
        "    model.add(MaxPooling2D((2,2), strides=(2,2)))\n",
        "\n",
        "    model.add(ZeroPadding2D((1,1)))\n",
        "    model.add(Convolution2D(128, (3, 3), activation='relu'))\n",
        "    model.add(ZeroPadding2D((1,1)))\n",
        "    model.add(Convolution2D(128, (3, 3), activation='relu'))\n",
        "    model.add(MaxPooling2D((2,2), strides=(2,2)))\n",
        "\n",
        "    model.add(ZeroPadding2D((1,1)))\n",
        "    model.add(Convolution2D(256, (3, 3), activation='relu'))\n",
        "    model.add(ZeroPadding2D((1,1)))\n",
        "    model.add(Convolution2D(256, (3, 3), activation='relu'))\n",
        "    model.add(ZeroPadding2D((1,1)))\n",
        "    model.add(Convolution2D(256, (3, 3), activation='relu'))\n",
        "    model.add(MaxPooling2D((2,2), strides=(2,2)))\n",
        "\n",
        "    model.add(ZeroPadding2D((1,1)))\n",
        "    model.add(Convolution2D(512, (3, 3), activation='relu'))\n",
        "    model.add(ZeroPadding2D((1,1)))\n",
        "    model.add(Convolution2D(512, (3, 3), activation='relu'))\n",
        "    model.add(ZeroPadding2D((1,1)))\n",
        "    model.add(Convolution2D(512, (3, 3), activation='relu'))\n",
        "    model.add(MaxPooling2D((2,2), strides=(2,2)))\n",
        "\n",
        "    model.add(ZeroPadding2D((1,1)))\n",
        "    model.add(Convolution2D(512, (3, 3), activation='relu'))\n",
        "    model.add(ZeroPadding2D((1,1)))\n",
        "    model.add(Convolution2D(512, (3, 3), activation='relu'))\n",
        "    model.add(ZeroPadding2D((1,1)))\n",
        "    model.add(Convolution2D(512, (3, 3), activation='relu'))\n",
        "    model.add(MaxPooling2D((2,2), strides=(2,2)))\n",
        "\n",
        "    model.add(Convolution2D(4096, (7, 7), activation='relu'))\n",
        "    model.add(Dropout(0.5))\n",
        "    model.add(Convolution2D(4096, (1, 1), activation='relu'))\n",
        "    model.add(Dropout(0.5))\n",
        "    model.add(Convolution2D(2622, (1, 1)))\n",
        "    model.add(Flatten())\n",
        "    model.add(Activation('softmax'))\n",
        "\n",
        "    #you can download pretrained weights from https://drive.google.com/file/d/1CPSeum3HpopfomUEK1gybeuIVoeJT_Eo/view?usp=sharing\n",
        "    from keras.models import model_from_json\n",
        "    model.load_weights('vgg_face_weights.h5')\n",
        "\n",
        "    vgg_face_descriptor = Model(inputs=model.layers[0].input, outputs=model.layers[-2].output)\n",
        "\n",
        "    return vgg_face_descriptor\n",
        "\n",
        "model = loadVggFaceModel()\n",
        "print(\"Model Loaded\")"
      ],
      "metadata": {
        "id": "wOkqn8K9hll1"
      },
      "execution_count": null,
      "outputs": []
    },
    {
      "cell_type": "code",
      "source": [],
      "metadata": {
        "id": "Dsl0iCT8u89E"
      },
      "execution_count": null,
      "outputs": []
    },
    {
      "cell_type": "code",
      "source": [],
      "metadata": {
        "id": "cLXfnDdgu8_4"
      },
      "execution_count": null,
      "outputs": []
    },
    {
      "cell_type": "code",
      "source": [],
      "metadata": {
        "id": "BShFzwMOu9DM"
      },
      "execution_count": null,
      "outputs": []
    },
    {
      "cell_type": "code",
      "source": [],
      "metadata": {
        "id": "LJWkig4uu9GS"
      },
      "execution_count": null,
      "outputs": []
    },
    {
      "cell_type": "code",
      "source": [],
      "metadata": {
        "id": "PKg22NUGu9Ih"
      },
      "execution_count": null,
      "outputs": []
    },
    {
      "cell_type": "code",
      "source": [],
      "metadata": {
        "id": "Qihzw3FJu9OS"
      },
      "execution_count": null,
      "outputs": []
    },
    {
      "cell_type": "code",
      "source": [],
      "metadata": {
        "id": "uLekTR-_hloU"
      },
      "execution_count": null,
      "outputs": []
    },
    {
      "cell_type": "code",
      "source": [
        "detector = dlib.cnn_face_detection_model_v1(\"../input/pretrained-models-faces/mmod_human_face_detector.dat\")\n",
        "\n",
        "def rect_to_bb(rect):\n",
        "    # take a bounding predicted by dlib and convert it\n",
        "    # to the format (x, y, w, h) as we would normally do\n",
        "    # with OpenCV\n",
        "    x = rect.rect.left()\n",
        "    y = rect.rect.top()\n",
        "    w = rect.rect.right() - x\n",
        "    h = rect.rect.bottom() - y\n",
        "\n",
        "    # return a tuple of (x, y, w, h)\n",
        "    return (x, y, w, h)\n",
        "\n",
        "def dlib_corrected(data, data_type = 'train'):\n",
        "    #We set the size of the image\n",
        "    dim = (160, 160)\n",
        "    data_images=[]\n",
        "    #If we are processing training data we need to keep track of the labels\n",
        "    if data_type=='train':\n",
        "        data_labels=[]\n",
        "    #Loop over all images\n",
        "    for cnt in range(0,len(data)):\n",
        "        image = data['img'][cnt]\n",
        "        #The large images are resized\n",
        "        if image.shape[0] > 1000 and image.shape[1] > 1000:\n",
        "            image = cv2.resize(image, (1000,1000), interpolation = cv2.INTER_AREA)\n",
        "        #The image is converted to grey-scales\n",
        "        gray = cv2.cvtColor(image, cv2.COLOR_BGR2GRAY)\n",
        "        #Detect the faces\n",
        "        rects = detector(gray, 1)\n",
        "        sub_images_data = []\n",
        "        #Loop over all faces in the image\n",
        "        for (i, rect) in enumerate(rects):\n",
        "            #Convert the bounding box to edges\n",
        "            (x, y, w, h) = rect_to_bb(rect)\n",
        "            #Here we copy and crop the face out of the image\n",
        "            clone = image.copy()\n",
        "            if(x>=0 and y>=0 and w>=0 and h>=0):\n",
        "                crop_img = clone[y:y+h, x:x+w]\n",
        "            else:\n",
        "                crop_img = clone.copy()\n",
        "            #We resize the face to the correct size\n",
        "            rgbImg = cv2.resize(crop_img, dim, interpolation = cv2.INTER_AREA)\n",
        "            #In the test set we keep track of all faces in an image\n",
        "            if data_type == 'train':\n",
        "                sub_images_data = rgbImg.copy()\n",
        "            else:\n",
        "                sub_images_data.append(rgbImg)\n",
        "        #If no face is detected in the image we will add a NaN\n",
        "        if(len(rects)==0):\n",
        "            if data_type == 'train':\n",
        "                sub_images_data = np.empty(dim + (3,))\n",
        "                sub_images_data[:] = np.nan\n",
        "            if data_type=='test':\n",
        "                nan_images_data = np.empty(dim + (3,))\n",
        "                nan_images_data[:] = np.nan\n",
        "                sub_images_data.append(nan_images_data)\n",
        "        #Here we add the the image(s) to the list we will return\n",
        "        data_images.append(sub_images_data)\n",
        "        #And add the label to the list\n",
        "        if data_type=='train':\n",
        "            data_labels.append(data['class'][cnt])\n",
        "    #Lastly we need to return the correct number of arrays\n",
        "    if data_type=='train':\n",
        "        return np.array(data_images), np.array(data_labels)\n",
        "    else:\n",
        "        return np.array(data_images)"
      ],
      "metadata": {
        "id": "pqwp9LUvhel_"
      },
      "execution_count": null,
      "outputs": []
    },
    {
      "cell_type": "code",
      "source": [
        "def get_embedding(model, face_pixels):\n",
        "    # scale pixel values\n",
        "    face_pixels = face_pixels.astype('float32')\n",
        "    # standardize pixel values across channels (global)\n",
        "    mean, std = face_pixels.mean(), face_pixels.std()\n",
        "    face_pixels = (face_pixels - mean) / std\n",
        "    # transform face into one sample\n",
        "    samples = expand_dims(face_pixels, axis=0)\n",
        "    # make prediction to get embedding\n",
        "    yhat = model.predict(samples)\n",
        "    return yhat[0]\n",
        "\n",
        "model = load_model('../input/pretrained-models-faces/facenet_keras.h5')\n",
        "\n",
        "svmtrainX = []\n",
        "for index, face_pixels in enumerate(newTrainX):\n",
        "    embedding = get_embedding(model, face_pixels)\n",
        "    svmtrainX.append(embedding)"
      ],
      "metadata": {
        "id": "I0w9uXyDA2rA"
      },
      "execution_count": null,
      "outputs": []
    },
    {
      "cell_type": "code",
      "source": [
        "from sklearn.svm import SVC\n",
        "from sklearn.pipeline import make_pipeline\n",
        "from sklearn.naive_bayes import GaussianNB\n",
        "from sklearn.neural_network import MLPClassifier\n",
        "from sklearn.preprocessing import StandardScaler, MinMaxScaler, Normalizer\n",
        "\n",
        "linear_model = make_pipeline(StandardScaler(), SVC(kernel='rbf', C=1.0, gamma=0.01, probability =True))\n",
        "linear_model.fit(svmtrainX, svmtrainY)"
      ],
      "metadata": {
        "id": "fZViLhr_A2t5"
      },
      "execution_count": null,
      "outputs": []
    },
    {
      "cell_type": "code",
      "source": [
        "predicitons=[]\n",
        "for i in corrected_test_X:    \n",
        "    flag=0\n",
        "    if(len(i)==1):\n",
        "        embedding = get_embedding(model, i[0])\n",
        "        tmp_output = linear_model.predict([embedding])\n",
        "        predicitons.append(tmp_output[0])\n",
        "    else:\n",
        "        tmp_sub_pred = []\n",
        "        tmp_sub_prob = []\n",
        "        for j in i:\n",
        "            j= j.astype(int)\n",
        "            embedding = get_embedding(model, j)\n",
        "            tmp_output = linear_model.predict([embedding])\n",
        "            tmp_sub_pred.append(tmp_output[0])\n",
        "            tmp_output_prob = linear_model.predict_log_proba([embedding])\n",
        "            tmp_sub_prob.append(np.max(tmp_output_prob[0]))\n",
        "            \n",
        "        if 1 in tmp_sub_pred and 2 in tmp_sub_pred:\n",
        "            index_1 = np.where(np.array(tmp_sub_pred)==1)[0][0]\n",
        "            index_2 = np.where(np.array(tmp_sub_pred)==2)[0][0]\n",
        "            if(tmp_sub_prob[index_1] > tmp_sub_prob[index_2] ):\n",
        "                predicitons.append(1)\n",
        "            else:\n",
        "                predicitons.append(2)\n",
        "        elif 1 not in tmp_sub_pred and 2 not in tmp_sub_pred:\n",
        "            predicitons.append(0)\n",
        "        elif 1 in tmp_sub_pred and 2 not in tmp_sub_pred:\n",
        "            predicitons.append(1)\n",
        "        elif 1 not in tmp_sub_pred and 2 in tmp_sub_pred:\n",
        "            predicitons.append(2)"
      ],
      "metadata": {
        "id": "Nl99h1MIA2xF"
      },
      "execution_count": null,
      "outputs": []
    },
    {
      "cell_type": "code",
      "source": [],
      "metadata": {
        "id": "pSRKRvk_CsbL"
      },
      "execution_count": null,
      "outputs": []
    },
    {
      "cell_type": "code",
      "source": [],
      "metadata": {
        "id": "eMxyKWjvCsif"
      },
      "execution_count": null,
      "outputs": []
    },
    {
      "cell_type": "code",
      "source": [],
      "metadata": {
        "id": "XSeIlT5gCsmU"
      },
      "execution_count": null,
      "outputs": []
    },
    {
      "cell_type": "code",
      "source": [],
      "metadata": {
        "id": "u3QBvli9Csqx"
      },
      "execution_count": null,
      "outputs": []
    },
    {
      "cell_type": "code",
      "source": [],
      "metadata": {
        "id": "ateIA73tCsvU"
      },
      "execution_count": null,
      "outputs": []
    },
    {
      "cell_type": "code",
      "source": [],
      "metadata": {
        "id": "Tc2bRCuoCszD"
      },
      "execution_count": null,
      "outputs": []
    },
    {
      "cell_type": "code",
      "source": [],
      "metadata": {
        "id": "HGShVwKKCs3E"
      },
      "execution_count": null,
      "outputs": []
    },
    {
      "cell_type": "code",
      "source": [],
      "metadata": {
        "id": "h1nZptpBCs7h"
      },
      "execution_count": null,
      "outputs": []
    }
  ]
}