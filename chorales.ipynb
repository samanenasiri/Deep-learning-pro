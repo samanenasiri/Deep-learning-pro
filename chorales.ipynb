{
  "cells": [
    {
      "cell_type": "code",
      "execution_count": null,
      "metadata": {
        "colab": {
          "base_uri": "https://localhost:8080/"
        },
        "id": "EejOLc25Ma6U",
        "outputId": "e09692bb-704a-4140-a9d9-905393c9871c"
      },
      "outputs": [
        {
          "name": "stdout",
          "output_type": "stream",
          "text": [
            "Downloading data from https://github.com/ageron/handson-ml2/raw/master/datasets/jsb_chorales/jsb_chorales.tgz\n",
            "122880/117661 [===============================] - 0s 0us/step\n",
            "131072/117661 [=================================] - 0s 0us/step\n"
          ]
        }
      ],
      "source": [
        "from tensorflow import keras\n",
        "DOWNLOAD_ROOT = \"https://github.com/ageron/handson-ml2/raw/master/datasets/jsb_chorales/\"\n",
        "FILENAME = \"jsb_chorales.tgz\"\n",
        "filepath = keras.utils.get_file(FILENAME,\n",
        "                                DOWNLOAD_ROOT + FILENAME,\n",
        "                                cache_subdir=\"datasets/jsb_chorales\",\n",
        "                                extract=True)"
      ]
    },
    {
      "cell_type": "code",
      "execution_count": null,
      "metadata": {
        "id": "T8u9jHLjMzo8"
      },
      "outputs": [],
      "source": [
        "from pathlib import Path\n",
        "jsb_chorales_dir = Path(filepath).parent\n",
        "train_files = sorted(jsb_chorales_dir.glob(\"train/chorale_*.csv\"))\n",
        "valid_files = sorted(jsb_chorales_dir.glob(\"valid/chorale_*.csv\"))\n",
        "test_files = sorted(jsb_chorales_dir.glob(\"test/chorale_*.csv\"))"
      ]
    },
    {
      "cell_type": "code",
      "execution_count": null,
      "metadata": {
        "colab": {
          "base_uri": "https://localhost:8080/"
        },
        "id": "fqcwU2g0Se4u",
        "outputId": "818bd648-a46f-41b9-d769-efe0021e8742"
      },
      "outputs": [
        {
          "data": {
            "text/plain": [
              "[PosixPath('/root/.keras/datasets/jsb_chorales/train/chorale_000.csv'),\n",
              " PosixPath('/root/.keras/datasets/jsb_chorales/train/chorale_001.csv'),\n",
              " PosixPath('/root/.keras/datasets/jsb_chorales/train/chorale_002.csv'),\n",
              " PosixPath('/root/.keras/datasets/jsb_chorales/train/chorale_003.csv'),\n",
              " PosixPath('/root/.keras/datasets/jsb_chorales/train/chorale_004.csv'),\n",
              " PosixPath('/root/.keras/datasets/jsb_chorales/train/chorale_005.csv'),\n",
              " PosixPath('/root/.keras/datasets/jsb_chorales/train/chorale_006.csv'),\n",
              " PosixPath('/root/.keras/datasets/jsb_chorales/train/chorale_007.csv'),\n",
              " PosixPath('/root/.keras/datasets/jsb_chorales/train/chorale_008.csv'),\n",
              " PosixPath('/root/.keras/datasets/jsb_chorales/train/chorale_009.csv'),\n",
              " PosixPath('/root/.keras/datasets/jsb_chorales/train/chorale_010.csv'),\n",
              " PosixPath('/root/.keras/datasets/jsb_chorales/train/chorale_011.csv'),\n",
              " PosixPath('/root/.keras/datasets/jsb_chorales/train/chorale_012.csv'),\n",
              " PosixPath('/root/.keras/datasets/jsb_chorales/train/chorale_013.csv'),\n",
              " PosixPath('/root/.keras/datasets/jsb_chorales/train/chorale_014.csv'),\n",
              " PosixPath('/root/.keras/datasets/jsb_chorales/train/chorale_015.csv'),\n",
              " PosixPath('/root/.keras/datasets/jsb_chorales/train/chorale_016.csv'),\n",
              " PosixPath('/root/.keras/datasets/jsb_chorales/train/chorale_017.csv'),\n",
              " PosixPath('/root/.keras/datasets/jsb_chorales/train/chorale_018.csv'),\n",
              " PosixPath('/root/.keras/datasets/jsb_chorales/train/chorale_019.csv'),\n",
              " PosixPath('/root/.keras/datasets/jsb_chorales/train/chorale_020.csv'),\n",
              " PosixPath('/root/.keras/datasets/jsb_chorales/train/chorale_021.csv'),\n",
              " PosixPath('/root/.keras/datasets/jsb_chorales/train/chorale_022.csv'),\n",
              " PosixPath('/root/.keras/datasets/jsb_chorales/train/chorale_023.csv'),\n",
              " PosixPath('/root/.keras/datasets/jsb_chorales/train/chorale_024.csv'),\n",
              " PosixPath('/root/.keras/datasets/jsb_chorales/train/chorale_025.csv'),\n",
              " PosixPath('/root/.keras/datasets/jsb_chorales/train/chorale_026.csv'),\n",
              " PosixPath('/root/.keras/datasets/jsb_chorales/train/chorale_027.csv'),\n",
              " PosixPath('/root/.keras/datasets/jsb_chorales/train/chorale_028.csv'),\n",
              " PosixPath('/root/.keras/datasets/jsb_chorales/train/chorale_029.csv'),\n",
              " PosixPath('/root/.keras/datasets/jsb_chorales/train/chorale_030.csv'),\n",
              " PosixPath('/root/.keras/datasets/jsb_chorales/train/chorale_031.csv'),\n",
              " PosixPath('/root/.keras/datasets/jsb_chorales/train/chorale_032.csv'),\n",
              " PosixPath('/root/.keras/datasets/jsb_chorales/train/chorale_033.csv'),\n",
              " PosixPath('/root/.keras/datasets/jsb_chorales/train/chorale_034.csv'),\n",
              " PosixPath('/root/.keras/datasets/jsb_chorales/train/chorale_035.csv'),\n",
              " PosixPath('/root/.keras/datasets/jsb_chorales/train/chorale_036.csv'),\n",
              " PosixPath('/root/.keras/datasets/jsb_chorales/train/chorale_037.csv'),\n",
              " PosixPath('/root/.keras/datasets/jsb_chorales/train/chorale_038.csv'),\n",
              " PosixPath('/root/.keras/datasets/jsb_chorales/train/chorale_039.csv'),\n",
              " PosixPath('/root/.keras/datasets/jsb_chorales/train/chorale_040.csv'),\n",
              " PosixPath('/root/.keras/datasets/jsb_chorales/train/chorale_041.csv'),\n",
              " PosixPath('/root/.keras/datasets/jsb_chorales/train/chorale_042.csv'),\n",
              " PosixPath('/root/.keras/datasets/jsb_chorales/train/chorale_043.csv'),\n",
              " PosixPath('/root/.keras/datasets/jsb_chorales/train/chorale_044.csv'),\n",
              " PosixPath('/root/.keras/datasets/jsb_chorales/train/chorale_045.csv'),\n",
              " PosixPath('/root/.keras/datasets/jsb_chorales/train/chorale_046.csv'),\n",
              " PosixPath('/root/.keras/datasets/jsb_chorales/train/chorale_047.csv'),\n",
              " PosixPath('/root/.keras/datasets/jsb_chorales/train/chorale_048.csv'),\n",
              " PosixPath('/root/.keras/datasets/jsb_chorales/train/chorale_049.csv'),\n",
              " PosixPath('/root/.keras/datasets/jsb_chorales/train/chorale_050.csv'),\n",
              " PosixPath('/root/.keras/datasets/jsb_chorales/train/chorale_051.csv'),\n",
              " PosixPath('/root/.keras/datasets/jsb_chorales/train/chorale_052.csv'),\n",
              " PosixPath('/root/.keras/datasets/jsb_chorales/train/chorale_053.csv'),\n",
              " PosixPath('/root/.keras/datasets/jsb_chorales/train/chorale_054.csv'),\n",
              " PosixPath('/root/.keras/datasets/jsb_chorales/train/chorale_055.csv'),\n",
              " PosixPath('/root/.keras/datasets/jsb_chorales/train/chorale_056.csv'),\n",
              " PosixPath('/root/.keras/datasets/jsb_chorales/train/chorale_057.csv'),\n",
              " PosixPath('/root/.keras/datasets/jsb_chorales/train/chorale_058.csv'),\n",
              " PosixPath('/root/.keras/datasets/jsb_chorales/train/chorale_059.csv'),\n",
              " PosixPath('/root/.keras/datasets/jsb_chorales/train/chorale_060.csv'),\n",
              " PosixPath('/root/.keras/datasets/jsb_chorales/train/chorale_061.csv'),\n",
              " PosixPath('/root/.keras/datasets/jsb_chorales/train/chorale_062.csv'),\n",
              " PosixPath('/root/.keras/datasets/jsb_chorales/train/chorale_063.csv'),\n",
              " PosixPath('/root/.keras/datasets/jsb_chorales/train/chorale_064.csv'),\n",
              " PosixPath('/root/.keras/datasets/jsb_chorales/train/chorale_065.csv'),\n",
              " PosixPath('/root/.keras/datasets/jsb_chorales/train/chorale_066.csv'),\n",
              " PosixPath('/root/.keras/datasets/jsb_chorales/train/chorale_067.csv'),\n",
              " PosixPath('/root/.keras/datasets/jsb_chorales/train/chorale_068.csv'),\n",
              " PosixPath('/root/.keras/datasets/jsb_chorales/train/chorale_069.csv'),\n",
              " PosixPath('/root/.keras/datasets/jsb_chorales/train/chorale_070.csv'),\n",
              " PosixPath('/root/.keras/datasets/jsb_chorales/train/chorale_071.csv'),\n",
              " PosixPath('/root/.keras/datasets/jsb_chorales/train/chorale_072.csv'),\n",
              " PosixPath('/root/.keras/datasets/jsb_chorales/train/chorale_073.csv'),\n",
              " PosixPath('/root/.keras/datasets/jsb_chorales/train/chorale_074.csv'),\n",
              " PosixPath('/root/.keras/datasets/jsb_chorales/train/chorale_075.csv'),\n",
              " PosixPath('/root/.keras/datasets/jsb_chorales/train/chorale_076.csv'),\n",
              " PosixPath('/root/.keras/datasets/jsb_chorales/train/chorale_077.csv'),\n",
              " PosixPath('/root/.keras/datasets/jsb_chorales/train/chorale_078.csv'),\n",
              " PosixPath('/root/.keras/datasets/jsb_chorales/train/chorale_079.csv'),\n",
              " PosixPath('/root/.keras/datasets/jsb_chorales/train/chorale_080.csv'),\n",
              " PosixPath('/root/.keras/datasets/jsb_chorales/train/chorale_081.csv'),\n",
              " PosixPath('/root/.keras/datasets/jsb_chorales/train/chorale_082.csv'),\n",
              " PosixPath('/root/.keras/datasets/jsb_chorales/train/chorale_083.csv'),\n",
              " PosixPath('/root/.keras/datasets/jsb_chorales/train/chorale_084.csv'),\n",
              " PosixPath('/root/.keras/datasets/jsb_chorales/train/chorale_085.csv'),\n",
              " PosixPath('/root/.keras/datasets/jsb_chorales/train/chorale_086.csv'),\n",
              " PosixPath('/root/.keras/datasets/jsb_chorales/train/chorale_087.csv'),\n",
              " PosixPath('/root/.keras/datasets/jsb_chorales/train/chorale_088.csv'),\n",
              " PosixPath('/root/.keras/datasets/jsb_chorales/train/chorale_089.csv'),\n",
              " PosixPath('/root/.keras/datasets/jsb_chorales/train/chorale_090.csv'),\n",
              " PosixPath('/root/.keras/datasets/jsb_chorales/train/chorale_091.csv'),\n",
              " PosixPath('/root/.keras/datasets/jsb_chorales/train/chorale_092.csv'),\n",
              " PosixPath('/root/.keras/datasets/jsb_chorales/train/chorale_093.csv'),\n",
              " PosixPath('/root/.keras/datasets/jsb_chorales/train/chorale_094.csv'),\n",
              " PosixPath('/root/.keras/datasets/jsb_chorales/train/chorale_095.csv'),\n",
              " PosixPath('/root/.keras/datasets/jsb_chorales/train/chorale_096.csv'),\n",
              " PosixPath('/root/.keras/datasets/jsb_chorales/train/chorale_097.csv'),\n",
              " PosixPath('/root/.keras/datasets/jsb_chorales/train/chorale_098.csv'),\n",
              " PosixPath('/root/.keras/datasets/jsb_chorales/train/chorale_099.csv'),\n",
              " PosixPath('/root/.keras/datasets/jsb_chorales/train/chorale_100.csv'),\n",
              " PosixPath('/root/.keras/datasets/jsb_chorales/train/chorale_101.csv'),\n",
              " PosixPath('/root/.keras/datasets/jsb_chorales/train/chorale_102.csv'),\n",
              " PosixPath('/root/.keras/datasets/jsb_chorales/train/chorale_103.csv'),\n",
              " PosixPath('/root/.keras/datasets/jsb_chorales/train/chorale_104.csv'),\n",
              " PosixPath('/root/.keras/datasets/jsb_chorales/train/chorale_105.csv'),\n",
              " PosixPath('/root/.keras/datasets/jsb_chorales/train/chorale_106.csv'),\n",
              " PosixPath('/root/.keras/datasets/jsb_chorales/train/chorale_107.csv'),\n",
              " PosixPath('/root/.keras/datasets/jsb_chorales/train/chorale_108.csv'),\n",
              " PosixPath('/root/.keras/datasets/jsb_chorales/train/chorale_109.csv'),\n",
              " PosixPath('/root/.keras/datasets/jsb_chorales/train/chorale_110.csv'),\n",
              " PosixPath('/root/.keras/datasets/jsb_chorales/train/chorale_111.csv'),\n",
              " PosixPath('/root/.keras/datasets/jsb_chorales/train/chorale_112.csv'),\n",
              " PosixPath('/root/.keras/datasets/jsb_chorales/train/chorale_113.csv'),\n",
              " PosixPath('/root/.keras/datasets/jsb_chorales/train/chorale_114.csv'),\n",
              " PosixPath('/root/.keras/datasets/jsb_chorales/train/chorale_115.csv'),\n",
              " PosixPath('/root/.keras/datasets/jsb_chorales/train/chorale_116.csv'),\n",
              " PosixPath('/root/.keras/datasets/jsb_chorales/train/chorale_117.csv'),\n",
              " PosixPath('/root/.keras/datasets/jsb_chorales/train/chorale_118.csv'),\n",
              " PosixPath('/root/.keras/datasets/jsb_chorales/train/chorale_119.csv'),\n",
              " PosixPath('/root/.keras/datasets/jsb_chorales/train/chorale_120.csv'),\n",
              " PosixPath('/root/.keras/datasets/jsb_chorales/train/chorale_121.csv'),\n",
              " PosixPath('/root/.keras/datasets/jsb_chorales/train/chorale_122.csv'),\n",
              " PosixPath('/root/.keras/datasets/jsb_chorales/train/chorale_123.csv'),\n",
              " PosixPath('/root/.keras/datasets/jsb_chorales/train/chorale_124.csv'),\n",
              " PosixPath('/root/.keras/datasets/jsb_chorales/train/chorale_125.csv'),\n",
              " PosixPath('/root/.keras/datasets/jsb_chorales/train/chorale_126.csv'),\n",
              " PosixPath('/root/.keras/datasets/jsb_chorales/train/chorale_127.csv'),\n",
              " PosixPath('/root/.keras/datasets/jsb_chorales/train/chorale_128.csv'),\n",
              " PosixPath('/root/.keras/datasets/jsb_chorales/train/chorale_129.csv'),\n",
              " PosixPath('/root/.keras/datasets/jsb_chorales/train/chorale_130.csv'),\n",
              " PosixPath('/root/.keras/datasets/jsb_chorales/train/chorale_131.csv'),\n",
              " PosixPath('/root/.keras/datasets/jsb_chorales/train/chorale_132.csv'),\n",
              " PosixPath('/root/.keras/datasets/jsb_chorales/train/chorale_133.csv'),\n",
              " PosixPath('/root/.keras/datasets/jsb_chorales/train/chorale_134.csv'),\n",
              " PosixPath('/root/.keras/datasets/jsb_chorales/train/chorale_135.csv'),\n",
              " PosixPath('/root/.keras/datasets/jsb_chorales/train/chorale_136.csv'),\n",
              " PosixPath('/root/.keras/datasets/jsb_chorales/train/chorale_137.csv'),\n",
              " PosixPath('/root/.keras/datasets/jsb_chorales/train/chorale_138.csv'),\n",
              " PosixPath('/root/.keras/datasets/jsb_chorales/train/chorale_139.csv'),\n",
              " PosixPath('/root/.keras/datasets/jsb_chorales/train/chorale_140.csv'),\n",
              " PosixPath('/root/.keras/datasets/jsb_chorales/train/chorale_141.csv'),\n",
              " PosixPath('/root/.keras/datasets/jsb_chorales/train/chorale_142.csv'),\n",
              " PosixPath('/root/.keras/datasets/jsb_chorales/train/chorale_143.csv'),\n",
              " PosixPath('/root/.keras/datasets/jsb_chorales/train/chorale_144.csv'),\n",
              " PosixPath('/root/.keras/datasets/jsb_chorales/train/chorale_145.csv'),\n",
              " PosixPath('/root/.keras/datasets/jsb_chorales/train/chorale_146.csv'),\n",
              " PosixPath('/root/.keras/datasets/jsb_chorales/train/chorale_147.csv'),\n",
              " PosixPath('/root/.keras/datasets/jsb_chorales/train/chorale_148.csv'),\n",
              " PosixPath('/root/.keras/datasets/jsb_chorales/train/chorale_149.csv'),\n",
              " PosixPath('/root/.keras/datasets/jsb_chorales/train/chorale_150.csv'),\n",
              " PosixPath('/root/.keras/datasets/jsb_chorales/train/chorale_151.csv'),\n",
              " PosixPath('/root/.keras/datasets/jsb_chorales/train/chorale_152.csv'),\n",
              " PosixPath('/root/.keras/datasets/jsb_chorales/train/chorale_153.csv'),\n",
              " PosixPath('/root/.keras/datasets/jsb_chorales/train/chorale_154.csv'),\n",
              " PosixPath('/root/.keras/datasets/jsb_chorales/train/chorale_155.csv'),\n",
              " PosixPath('/root/.keras/datasets/jsb_chorales/train/chorale_156.csv'),\n",
              " PosixPath('/root/.keras/datasets/jsb_chorales/train/chorale_157.csv'),\n",
              " PosixPath('/root/.keras/datasets/jsb_chorales/train/chorale_158.csv'),\n",
              " PosixPath('/root/.keras/datasets/jsb_chorales/train/chorale_159.csv'),\n",
              " PosixPath('/root/.keras/datasets/jsb_chorales/train/chorale_160.csv'),\n",
              " PosixPath('/root/.keras/datasets/jsb_chorales/train/chorale_161.csv'),\n",
              " PosixPath('/root/.keras/datasets/jsb_chorales/train/chorale_162.csv'),\n",
              " PosixPath('/root/.keras/datasets/jsb_chorales/train/chorale_163.csv'),\n",
              " PosixPath('/root/.keras/datasets/jsb_chorales/train/chorale_164.csv'),\n",
              " PosixPath('/root/.keras/datasets/jsb_chorales/train/chorale_165.csv'),\n",
              " PosixPath('/root/.keras/datasets/jsb_chorales/train/chorale_166.csv'),\n",
              " PosixPath('/root/.keras/datasets/jsb_chorales/train/chorale_167.csv'),\n",
              " PosixPath('/root/.keras/datasets/jsb_chorales/train/chorale_168.csv'),\n",
              " PosixPath('/root/.keras/datasets/jsb_chorales/train/chorale_169.csv'),\n",
              " PosixPath('/root/.keras/datasets/jsb_chorales/train/chorale_170.csv'),\n",
              " PosixPath('/root/.keras/datasets/jsb_chorales/train/chorale_171.csv'),\n",
              " PosixPath('/root/.keras/datasets/jsb_chorales/train/chorale_172.csv'),\n",
              " PosixPath('/root/.keras/datasets/jsb_chorales/train/chorale_173.csv'),\n",
              " PosixPath('/root/.keras/datasets/jsb_chorales/train/chorale_174.csv'),\n",
              " PosixPath('/root/.keras/datasets/jsb_chorales/train/chorale_175.csv'),\n",
              " PosixPath('/root/.keras/datasets/jsb_chorales/train/chorale_176.csv'),\n",
              " PosixPath('/root/.keras/datasets/jsb_chorales/train/chorale_177.csv'),\n",
              " PosixPath('/root/.keras/datasets/jsb_chorales/train/chorale_178.csv'),\n",
              " PosixPath('/root/.keras/datasets/jsb_chorales/train/chorale_179.csv'),\n",
              " PosixPath('/root/.keras/datasets/jsb_chorales/train/chorale_180.csv'),\n",
              " PosixPath('/root/.keras/datasets/jsb_chorales/train/chorale_181.csv'),\n",
              " PosixPath('/root/.keras/datasets/jsb_chorales/train/chorale_182.csv'),\n",
              " PosixPath('/root/.keras/datasets/jsb_chorales/train/chorale_183.csv'),\n",
              " PosixPath('/root/.keras/datasets/jsb_chorales/train/chorale_184.csv'),\n",
              " PosixPath('/root/.keras/datasets/jsb_chorales/train/chorale_185.csv'),\n",
              " PosixPath('/root/.keras/datasets/jsb_chorales/train/chorale_186.csv'),\n",
              " PosixPath('/root/.keras/datasets/jsb_chorales/train/chorale_187.csv'),\n",
              " PosixPath('/root/.keras/datasets/jsb_chorales/train/chorale_188.csv'),\n",
              " PosixPath('/root/.keras/datasets/jsb_chorales/train/chorale_189.csv'),\n",
              " PosixPath('/root/.keras/datasets/jsb_chorales/train/chorale_190.csv'),\n",
              " PosixPath('/root/.keras/datasets/jsb_chorales/train/chorale_191.csv'),\n",
              " PosixPath('/root/.keras/datasets/jsb_chorales/train/chorale_192.csv'),\n",
              " PosixPath('/root/.keras/datasets/jsb_chorales/train/chorale_193.csv'),\n",
              " PosixPath('/root/.keras/datasets/jsb_chorales/train/chorale_194.csv'),\n",
              " PosixPath('/root/.keras/datasets/jsb_chorales/train/chorale_195.csv'),\n",
              " PosixPath('/root/.keras/datasets/jsb_chorales/train/chorale_196.csv'),\n",
              " PosixPath('/root/.keras/datasets/jsb_chorales/train/chorale_197.csv'),\n",
              " PosixPath('/root/.keras/datasets/jsb_chorales/train/chorale_198.csv'),\n",
              " PosixPath('/root/.keras/datasets/jsb_chorales/train/chorale_199.csv'),\n",
              " PosixPath('/root/.keras/datasets/jsb_chorales/train/chorale_200.csv'),\n",
              " PosixPath('/root/.keras/datasets/jsb_chorales/train/chorale_201.csv'),\n",
              " PosixPath('/root/.keras/datasets/jsb_chorales/train/chorale_202.csv'),\n",
              " PosixPath('/root/.keras/datasets/jsb_chorales/train/chorale_203.csv'),\n",
              " PosixPath('/root/.keras/datasets/jsb_chorales/train/chorale_204.csv'),\n",
              " PosixPath('/root/.keras/datasets/jsb_chorales/train/chorale_205.csv'),\n",
              " PosixPath('/root/.keras/datasets/jsb_chorales/train/chorale_206.csv'),\n",
              " PosixPath('/root/.keras/datasets/jsb_chorales/train/chorale_207.csv'),\n",
              " PosixPath('/root/.keras/datasets/jsb_chorales/train/chorale_208.csv'),\n",
              " PosixPath('/root/.keras/datasets/jsb_chorales/train/chorale_209.csv'),\n",
              " PosixPath('/root/.keras/datasets/jsb_chorales/train/chorale_210.csv'),\n",
              " PosixPath('/root/.keras/datasets/jsb_chorales/train/chorale_211.csv'),\n",
              " PosixPath('/root/.keras/datasets/jsb_chorales/train/chorale_212.csv'),\n",
              " PosixPath('/root/.keras/datasets/jsb_chorales/train/chorale_213.csv'),\n",
              " PosixPath('/root/.keras/datasets/jsb_chorales/train/chorale_214.csv'),\n",
              " PosixPath('/root/.keras/datasets/jsb_chorales/train/chorale_215.csv'),\n",
              " PosixPath('/root/.keras/datasets/jsb_chorales/train/chorale_216.csv'),\n",
              " PosixPath('/root/.keras/datasets/jsb_chorales/train/chorale_217.csv'),\n",
              " PosixPath('/root/.keras/datasets/jsb_chorales/train/chorale_218.csv'),\n",
              " PosixPath('/root/.keras/datasets/jsb_chorales/train/chorale_219.csv'),\n",
              " PosixPath('/root/.keras/datasets/jsb_chorales/train/chorale_220.csv'),\n",
              " PosixPath('/root/.keras/datasets/jsb_chorales/train/chorale_221.csv'),\n",
              " PosixPath('/root/.keras/datasets/jsb_chorales/train/chorale_222.csv'),\n",
              " PosixPath('/root/.keras/datasets/jsb_chorales/train/chorale_223.csv'),\n",
              " PosixPath('/root/.keras/datasets/jsb_chorales/train/chorale_224.csv'),\n",
              " PosixPath('/root/.keras/datasets/jsb_chorales/train/chorale_225.csv'),\n",
              " PosixPath('/root/.keras/datasets/jsb_chorales/train/chorale_226.csv'),\n",
              " PosixPath('/root/.keras/datasets/jsb_chorales/train/chorale_227.csv'),\n",
              " PosixPath('/root/.keras/datasets/jsb_chorales/train/chorale_228.csv')]"
            ]
          },
          "execution_count": 18,
          "metadata": {},
          "output_type": "execute_result"
        }
      ],
      "source": [
        "train_files"
      ]
    },
    {
      "cell_type": "code",
      "execution_count": null,
      "metadata": {
        "id": "qnmRGk1BNjXY"
      },
      "outputs": [],
      "source": [
        "import pandas as pd\n",
        "\n",
        "def load_chorales(filepaths):\n",
        "    return [pd.read_csv(filepath).values.tolist() for filepath in filepaths]\n",
        "\n",
        "train_chorales = load_chorales(train_files)\n",
        "valid_chorales = load_chorales(valid_files)\n",
        "test_chorales = load_chorales(test_files)"
      ]
    },
    {
      "cell_type": "code",
      "execution_count": null,
      "metadata": {
        "colab": {
          "base_uri": "https://localhost:8080/"
        },
        "id": "KLsaiITRQ_vL",
        "outputId": "99e3f769-2435-4d20-e95e-732ae2572fe3"
      },
      "outputs": [
        {
          "data": {
            "text/plain": [
              "229"
            ]
          },
          "execution_count": 17,
          "metadata": {},
          "output_type": "execute_result"
        }
      ],
      "source": [
        "len(train_chorales)"
      ]
    },
    {
      "cell_type": "code",
      "execution_count": null,
      "metadata": {
        "colab": {
          "base_uri": "https://localhost:8080/"
        },
        "id": "Mg-AiD6FNqhr",
        "outputId": "75ee335d-2095-4fda-b1fb-00c5813c16e0"
      },
      "outputs": [
        {
          "data": {
            "text/plain": [
              "[[74, 70, 65, 58],\n",
              " [74, 70, 65, 58],\n",
              " [74, 70, 65, 58],\n",
              " [74, 70, 65, 58],\n",
              " [75, 70, 58, 55],\n",
              " [75, 70, 58, 55],\n",
              " [75, 70, 60, 55],\n",
              " [75, 70, 60, 55],\n",
              " [77, 69, 62, 50],\n",
              " [77, 69, 62, 50],\n",
              " [77, 69, 62, 50],\n",
              " [77, 69, 62, 50],\n",
              " [77, 70, 62, 55],\n",
              " [77, 70, 62, 55],\n",
              " [77, 69, 62, 55],\n",
              " [77, 69, 62, 55],\n",
              " [75, 67, 63, 48],\n",
              " [75, 67, 63, 48],\n",
              " [75, 69, 63, 48],\n",
              " [75, 69, 63, 48],\n",
              " [74, 70, 65, 46],\n",
              " [74, 70, 65, 46],\n",
              " [74, 70, 65, 46],\n",
              " [74, 70, 65, 46],\n",
              " [72, 69, 65, 53],\n",
              " [72, 69, 65, 53],\n",
              " [72, 69, 65, 53],\n",
              " [72, 69, 65, 53],\n",
              " [72, 69, 65, 53],\n",
              " [72, 69, 65, 53],\n",
              " [72, 69, 65, 53],\n",
              " [72, 69, 65, 53],\n",
              " [74, 70, 65, 46],\n",
              " [74, 70, 65, 46],\n",
              " [74, 70, 65, 46],\n",
              " [74, 70, 65, 46],\n",
              " [75, 69, 63, 48],\n",
              " [75, 69, 63, 48],\n",
              " [75, 67, 63, 48],\n",
              " [75, 67, 63, 48],\n",
              " [77, 65, 62, 50],\n",
              " [77, 65, 62, 50],\n",
              " [77, 65, 60, 50],\n",
              " [77, 65, 60, 50],\n",
              " [74, 67, 58, 55],\n",
              " [74, 67, 58, 55],\n",
              " [74, 67, 58, 53],\n",
              " [74, 67, 58, 53],\n",
              " [72, 67, 58, 51],\n",
              " [72, 67, 58, 51],\n",
              " [72, 67, 58, 51],\n",
              " [72, 67, 58, 51],\n",
              " [72, 65, 57, 53],\n",
              " [72, 65, 57, 53],\n",
              " [72, 65, 57, 53],\n",
              " [72, 65, 57, 53],\n",
              " [70, 65, 62, 46],\n",
              " [70, 65, 62, 46],\n",
              " [70, 65, 62, 46],\n",
              " [70, 65, 62, 46],\n",
              " [70, 65, 62, 46],\n",
              " [70, 65, 62, 46],\n",
              " [70, 65, 62, 46],\n",
              " [70, 65, 62, 46],\n",
              " [72, 69, 65, 53],\n",
              " [72, 69, 65, 53],\n",
              " [72, 69, 65, 53],\n",
              " [72, 69, 65, 53],\n",
              " [74, 71, 53, 50],\n",
              " [74, 71, 53, 50],\n",
              " [74, 71, 53, 50],\n",
              " [74, 71, 53, 50],\n",
              " [75, 72, 55, 48],\n",
              " [75, 72, 55, 48],\n",
              " [75, 72, 55, 50],\n",
              " [75, 72, 55, 50],\n",
              " [75, 67, 60, 51],\n",
              " [75, 67, 60, 51],\n",
              " [75, 67, 60, 53],\n",
              " [75, 67, 60, 53],\n",
              " [74, 67, 60, 55],\n",
              " [74, 67, 60, 55],\n",
              " [74, 67, 57, 55],\n",
              " [74, 67, 57, 55],\n",
              " [74, 65, 59, 43],\n",
              " [74, 65, 59, 43],\n",
              " [72, 63, 59, 43],\n",
              " [72, 63, 59, 43],\n",
              " [72, 63, 55, 48],\n",
              " [72, 63, 55, 48],\n",
              " [72, 63, 55, 48],\n",
              " [72, 63, 55, 48],\n",
              " [72, 63, 55, 48],\n",
              " [72, 63, 55, 48],\n",
              " [72, 63, 55, 48],\n",
              " [72, 63, 55, 48],\n",
              " [75, 67, 60, 60],\n",
              " [75, 67, 60, 60],\n",
              " [75, 67, 60, 60],\n",
              " [75, 67, 60, 60],\n",
              " [77, 70, 62, 58],\n",
              " [77, 70, 62, 58],\n",
              " [77, 70, 62, 56],\n",
              " [77, 70, 62, 56],\n",
              " [79, 70, 62, 55],\n",
              " [79, 70, 62, 55],\n",
              " [79, 70, 62, 53],\n",
              " [79, 70, 62, 53],\n",
              " [79, 70, 63, 51],\n",
              " [79, 70, 63, 51],\n",
              " [79, 70, 63, 51],\n",
              " [79, 70, 63, 51],\n",
              " [77, 70, 63, 58],\n",
              " [77, 70, 63, 58],\n",
              " [77, 70, 60, 58],\n",
              " [77, 70, 60, 58],\n",
              " [77, 70, 62, 46],\n",
              " [77, 70, 62, 46],\n",
              " [77, 68, 62, 46],\n",
              " [75, 68, 62, 46],\n",
              " [75, 67, 58, 51],\n",
              " [75, 67, 58, 51],\n",
              " [75, 67, 58, 51],\n",
              " [75, 67, 58, 51],\n",
              " [75, 67, 58, 51],\n",
              " [75, 67, 58, 51],\n",
              " [75, 67, 58, 51],\n",
              " [75, 67, 58, 51],\n",
              " [74, 67, 58, 55],\n",
              " [74, 67, 58, 55],\n",
              " [74, 67, 58, 55],\n",
              " [74, 67, 58, 55],\n",
              " [75, 67, 58, 53],\n",
              " [75, 67, 58, 53],\n",
              " [75, 67, 58, 51],\n",
              " [75, 67, 58, 51],\n",
              " [77, 65, 58, 50],\n",
              " [77, 65, 58, 50],\n",
              " [77, 65, 56, 50],\n",
              " [77, 65, 56, 50],\n",
              " [70, 63, 55, 51],\n",
              " [70, 63, 55, 51],\n",
              " [70, 63, 55, 51],\n",
              " [70, 63, 55, 51],\n",
              " [75, 65, 60, 45],\n",
              " [75, 65, 60, 45],\n",
              " [75, 65, 60, 45],\n",
              " [75, 65, 60, 45],\n",
              " [74, 65, 58, 46],\n",
              " [74, 65, 58, 46],\n",
              " [74, 65, 58, 46],\n",
              " [74, 65, 58, 46],\n",
              " [72, 65, 57, 53],\n",
              " [72, 65, 57, 53],\n",
              " [72, 65, 57, 53],\n",
              " [72, 65, 57, 53],\n",
              " [72, 65, 57, 53],\n",
              " [72, 65, 57, 53],\n",
              " [72, 65, 57, 53],\n",
              " [72, 65, 57, 53],\n",
              " [74, 65, 58, 58],\n",
              " [74, 65, 58, 58],\n",
              " [74, 65, 58, 58],\n",
              " [74, 65, 58, 58],\n",
              " [75, 67, 58, 57],\n",
              " [75, 67, 58, 57],\n",
              " [75, 67, 58, 55],\n",
              " [75, 67, 58, 55],\n",
              " [77, 65, 60, 57],\n",
              " [77, 65, 60, 57],\n",
              " [77, 65, 60, 53],\n",
              " [77, 65, 60, 53],\n",
              " [74, 65, 58, 58],\n",
              " [74, 65, 58, 58],\n",
              " [74, 65, 58, 58],\n",
              " [74, 65, 58, 58],\n",
              " [72, 67, 58, 51],\n",
              " [72, 67, 58, 51],\n",
              " [72, 67, 58, 51],\n",
              " [72, 67, 58, 51],\n",
              " [72, 65, 57, 53],\n",
              " [72, 65, 57, 53],\n",
              " [72, 65, 57, 53],\n",
              " [72, 65, 57, 53],\n",
              " [70, 65, 62, 46],\n",
              " [70, 65, 62, 46],\n",
              " [70, 65, 62, 46],\n",
              " [70, 65, 62, 46],\n",
              " [70, 65, 62, 46],\n",
              " [70, 65, 62, 46],\n",
              " [70, 65, 62, 46],\n",
              " [70, 65, 62, 46]]"
            ]
          },
          "execution_count": 6,
          "metadata": {},
          "output_type": "execute_result"
        }
      ],
      "source": [
        "train_chorales[0]"
      ]
    },
    {
      "cell_type": "code",
      "execution_count": null,
      "metadata": {
        "id": "mtki6L6bNsUa"
      },
      "outputs": [],
      "source": [
        "notes = set()\n",
        "for chorales in (train_chorales, valid_chorales, test_chorales):\n",
        "    for chorale in chorales:\n",
        "        for chord in chorale:\n",
        "            notes |= set(chord)\n",
        "\n",
        "n_notes = len(notes)\n",
        "min_note = min(notes - {0})\n",
        "max_note = max(notes)\n",
        "\n",
        "assert min_note == 36\n",
        "assert max_note == 81\n",
        "\n",
        "#چک میکه نوتها در ست باشه "
      ]
    },
    {
      "cell_type": "code",
      "execution_count": null,
      "metadata": {
        "colab": {
          "base_uri": "https://localhost:8080/"
        },
        "id": "U-TUyakMRfnZ",
        "outputId": "693e325e-7be9-4b7f-c482-ec87d17cc462"
      },
      "outputs": [
        {
          "data": {
            "text/plain": [
              "47"
            ]
          },
          "execution_count": 13,
          "metadata": {},
          "output_type": "execute_result"
        }
      ],
      "source": [
        "n_notes"
      ]
    },
    {
      "cell_type": "code",
      "execution_count": null,
      "metadata": {
        "colab": {
          "base_uri": "https://localhost:8080/"
        },
        "id": "pLYDPVRtRnad",
        "outputId": "d33481b1-cbd1-47ee-e0e3-542c9dd90996"
      },
      "outputs": [
        {
          "data": {
            "text/plain": [
              "36"
            ]
          },
          "execution_count": 14,
          "metadata": {},
          "output_type": "execute_result"
        }
      ],
      "source": [
        "min_note"
      ]
    },
    {
      "cell_type": "code",
      "execution_count": null,
      "metadata": {
        "colab": {
          "base_uri": "https://localhost:8080/"
        },
        "id": "EP1VOna8RsBX",
        "outputId": "99735023-ddf3-49ae-d46b-74ad7802265c"
      },
      "outputs": [
        {
          "data": {
            "text/plain": [
              "81"
            ]
          },
          "execution_count": 15,
          "metadata": {},
          "output_type": "execute_result"
        }
      ],
      "source": [
        "max_note"
      ]
    },
    {
      "cell_type": "code",
      "execution_count": null,
      "metadata": {
        "id": "vEXeHmJENsW3"
      },
      "outputs": [],
      "source": [
        "from IPython.display import Audio\n",
        "import numpy as np\n",
        "\n",
        "\n",
        "def notes_to_frequencies(notes):\n",
        "    # Frequency doubles when you go up one octave; there are 12 semi-tones\n",
        "    # per octave; Note A on octave 4 is 440 Hz, and it is note number 69.\n",
        "    return 2 ** ((np.array(notes) - 69) / 12) * 440\n",
        "\n",
        "def frequencies_to_samples(frequencies, tempo, sample_rate):\n",
        "    note_duration = 60 / tempo # the tempo is measured in beats per minutes\n",
        "    # To reduce click sound at every beat, we round the frequencies to try to\n",
        "    # get the samples close to zero at the end of each note.\n",
        "    frequencies = np.round(note_duration * frequencies) / note_duration\n",
        "    n_samples = int(note_duration * sample_rate)\n",
        "    time = np.linspace(0, note_duration, n_samples)\n",
        "    sine_waves = np.sin(2 * np.pi * frequencies.reshape(-1, 1) * time)\n",
        "    # Removing all notes with frequencies ≤ 9 Hz (includes note 0 = silence)\n",
        "    sine_waves *= (frequencies > 9.).reshape(-1, 1)\n",
        "    return sine_waves.reshape(-1)\n",
        "\n",
        "def chords_to_samples(chords, tempo, sample_rate):\n",
        "    freqs = notes_to_frequencies(chords)\n",
        "    freqs = np.r_[freqs, freqs[-1:]] # make last note a bit longer\n",
        "    merged = np.mean([frequencies_to_samples(melody, tempo, sample_rate)\n",
        "                     for melody in freqs.T], axis=0)\n",
        "    n_fade_out_samples = sample_rate * 60 // tempo # fade out last note\n",
        "    fade_out = np.linspace(1., 0., n_fade_out_samples)**2\n",
        "    merged[-n_fade_out_samples:] *= fade_out\n",
        "    return merged\n",
        "\n",
        "def play_chords(chords, tempo=160, amplitude=0.1, sample_rate=44100, filepath=None):\n",
        "    samples = amplitude * chords_to_samples(chords, tempo, sample_rate)\n",
        "    if filepath:\n",
        "        from scipy.io import wavfile\n",
        "        samples = (2**15 * samples).astype(np.int16)\n",
        "        wavfile.write(filepath, sample_rate, samples)\n",
        "        return display(Audio(filepath))\n",
        "    else:\n",
        "        return display(Audio(samples, rate=sample_rate))\n",
        "\n",
        "#هر کدوم از نوتها رو تبدیل مکینه به صوت         "
      ]
    },
    {
      "cell_type": "code",
      "execution_count": null,
      "metadata": {
        "colab": {
          "background_save": true,
          "base_uri": "https://localhost:8080/",
          "height": 150
        },
        "id": "PuqNXd-NNsZW",
        "outputId": "2b2d5a8c-a9c8-4de8-9875-d2593f1f12bc"
      },
      "outputs": [],
      "source": [
        "for index in range(3):\n",
        "    play_chords(train_chorales[index])"
      ]
    },
    {
      "cell_type": "code",
      "execution_count": null,
      "metadata": {
        "id": "2y_aR4JyNsbf"
      },
      "outputs": [],
      "source": [
        "import tensorflow as tf\n",
        "\n",
        "def create_target(batch):\n",
        "    X = batch[:, :-1]\n",
        "    Y = batch[:, 1:] # predict next note in each arpegio, at each step\n",
        "    return X, Y\n",
        "\n",
        "def preprocess(window):\n",
        "    window = tf.where(window == 0, window, window - min_note + 1) # shift values\n",
        "    return tf.reshape(window, [-1]) # convert to arpegio\n",
        "\n",
        "def bach_dataset(chorales, batch_size=32, shuffle_buffer_size=None,\n",
        "                 window_size=32, window_shift=16, cache=True):\n",
        "    def batch_window(window):\n",
        "        return window.batch(window_size + 1)\n",
        "\n",
        "    def to_windows(chorale):\n",
        "        dataset = tf.data.Dataset.from_tensor_slices(chorale)\n",
        "        dataset = dataset.window(window_size + 1, window_shift, drop_remainder=True)\n",
        "        return dataset.flat_map(batch_window)\n",
        "\n",
        "    chorales = tf.ragged.constant(chorales, ragged_rank=1)\n",
        "    dataset = tf.data.Dataset.from_tensor_slices(chorales)\n",
        "    dataset = dataset.flat_map(to_windows).map(preprocess)\n",
        "    if cache:\n",
        "        dataset = dataset.cache()\n",
        "    if shuffle_buffer_size:\n",
        "        dataset = dataset.shuffle(shuffle_buffer_size)\n",
        "    dataset = dataset.batch(batch_size)\n",
        "    dataset = dataset.map(create_target)\n",
        "    return dataset.prefetch(1)"
      ]
    },
    {
      "cell_type": "code",
      "execution_count": null,
      "metadata": {
        "id": "2nmDzYgLNsdl"
      },
      "outputs": [],
      "source": [
        "train_set = bach_dataset(train_chorales, shuffle_buffer_size=1000)\n",
        "valid_set = bach_dataset(valid_chorales)\n",
        "test_set = bach_dataset(test_chorales)"
      ]
    },
    {
      "cell_type": "code",
      "execution_count": null,
      "metadata": {
        "colab": {
          "base_uri": "https://localhost:8080/"
        },
        "id": "yTwpnoIyUQSc",
        "outputId": "f67bab23-cb9b-4d1e-c2c0-9361e5024203"
      },
      "outputs": [
        {
          "name": "stdout",
          "output_type": "stream",
          "text": [
            "Model: \"sequential\"\n",
            "_________________________________________________________________\n",
            " Layer (type)                Output Shape              Param #   \n",
            "=================================================================\n",
            " embedding (Embedding)       (None, None, 5)           235       \n",
            "                                                                 \n",
            " conv1d (Conv1D)             (None, None, 32)          352       \n",
            "                                                                 \n",
            " batch_normalization (BatchN  (None, None, 32)         128       \n",
            " ormalization)                                                   \n",
            "                                                                 \n",
            " conv1d_1 (Conv1D)           (None, None, 48)          3120      \n",
            "                                                                 \n",
            " batch_normalization_1 (Batc  (None, None, 48)         192       \n",
            " hNormalization)                                                 \n",
            "                                                                 \n",
            " conv1d_2 (Conv1D)           (None, None, 64)          6208      \n",
            "                                                                 \n",
            " batch_normalization_2 (Batc  (None, None, 64)         256       \n",
            " hNormalization)                                                 \n",
            "                                                                 \n",
            " conv1d_3 (Conv1D)           (None, None, 96)          12384     \n",
            "                                                                 \n",
            " batch_normalization_3 (Batc  (None, None, 96)         384       \n",
            " hNormalization)                                                 \n",
            "                                                                 \n",
            " lstm (LSTM)                 (None, None, 256)         361472    \n",
            "                                                                 \n",
            " dense (Dense)               (None, None, 47)          12079     \n",
            "                                                                 \n",
            "=================================================================\n",
            "Total params: 396,810\n",
            "Trainable params: 396,330\n",
            "Non-trainable params: 480\n",
            "_________________________________________________________________\n"
          ]
        }
      ],
      "source": [
        "n_embedding_dims = 5\n",
        "\n",
        "model = keras.models.Sequential([\n",
        "    keras.layers.Embedding(input_dim=n_notes, output_dim=n_embedding_dims,\n",
        "                           input_shape=[None]),\n",
        "    keras.layers.Conv1D(32, kernel_size=2, padding=\"causal\", activation=\"relu\"),\n",
        "    keras.layers.BatchNormalization(),\n",
        "    keras.layers.Conv1D(48, kernel_size=2, padding=\"causal\", activation=\"relu\", dilation_rate=2),\n",
        "    keras.layers.BatchNormalization(),\n",
        "    keras.layers.Conv1D(64, kernel_size=2, padding=\"causal\", activation=\"relu\", dilation_rate=4),\n",
        "    keras.layers.BatchNormalization(),\n",
        "    keras.layers.Conv1D(96, kernel_size=2, padding=\"causal\", activation=\"relu\", dilation_rate=8),\n",
        "    keras.layers.BatchNormalization(),\n",
        "    keras.layers.LSTM(256, return_sequences=True),\n",
        "    keras.layers.Dense(n_notes, activation=\"softmax\")\n",
        "])\n",
        "\n",
        "model.summary()"
      ]
    },
    {
      "cell_type": "code",
      "execution_count": null,
      "metadata": {
        "colab": {
          "background_save": true,
          "base_uri": "https://localhost:8080/"
        },
        "id": "Udok14KLUQWX",
        "outputId": "06aa88ae-da37-4302-9fcb-fb174579521c"
      },
      "outputs": [
        {
          "name": "stdout",
          "output_type": "stream",
          "text": [
            "Epoch 1/20\n",
            "98/98 [==============================] - 92s 884ms/step - loss: 0.2495 - accuracy: 0.9221 - val_loss: 0.6861 - val_accuracy: 0.8116\n",
            "Epoch 2/20\n",
            "98/98 [==============================] - 76s 778ms/step - loss: 0.2377 - accuracy: 0.9258 - val_loss: 0.6677 - val_accuracy: 0.8177\n",
            "Epoch 3/20\n",
            "98/98 [==============================] - 77s 783ms/step - loss: 0.2286 - accuracy: 0.9286 - val_loss: 0.7045 - val_accuracy: 0.8118\n",
            "Epoch 4/20\n",
            "98/98 [==============================] - 75s 769ms/step - loss: 0.2170 - accuracy: 0.9323 - val_loss: 0.6948 - val_accuracy: 0.8151\n",
            "Epoch 5/20\n",
            "98/98 [==============================] - 78s 793ms/step - loss: 0.2072 - accuracy: 0.9354 - val_loss: 0.7060 - val_accuracy: 0.8151\n",
            "Epoch 6/20\n",
            "98/98 [==============================] - 76s 775ms/step - loss: 0.1968 - accuracy: 0.9387 - val_loss: 0.7441 - val_accuracy: 0.8087\n",
            "Epoch 7/20\n",
            "98/98 [==============================] - 76s 775ms/step - loss: 0.1910 - accuracy: 0.9406 - val_loss: 0.7375 - val_accuracy: 0.8118\n",
            "Epoch 8/20\n",
            "98/98 [==============================] - 76s 779ms/step - loss: 0.1828 - accuracy: 0.9433 - val_loss: 0.7392 - val_accuracy: 0.8111\n",
            "Epoch 9/20\n",
            "98/98 [==============================] - 77s 784ms/step - loss: 0.1757 - accuracy: 0.9455 - val_loss: 0.7662 - val_accuracy: 0.8078\n",
            "Epoch 10/20\n",
            "98/98 [==============================] - 76s 777ms/step - loss: 0.3499 - accuracy: 0.8870 - val_loss: 0.7184 - val_accuracy: 0.8141\n",
            "Epoch 11/20\n",
            "98/98 [==============================] - 73s 746ms/step - loss: 0.2100 - accuracy: 0.9323 - val_loss: 0.7216 - val_accuracy: 0.8148\n",
            "Epoch 12/20\n",
            "98/98 [==============================] - 76s 777ms/step - loss: 0.1757 - accuracy: 0.9455 - val_loss: 0.7493 - val_accuracy: 0.8110\n",
            "Epoch 13/20\n",
            "98/98 [==============================] - 79s 813ms/step - loss: 0.1639 - accuracy: 0.9492 - val_loss: 0.7452 - val_accuracy: 0.8139\n",
            "Epoch 14/20\n",
            "98/98 [==============================] - 76s 776ms/step - loss: 0.1539 - accuracy: 0.9527 - val_loss: 0.7683 - val_accuracy: 0.8115\n",
            "Epoch 15/20\n",
            "98/98 [==============================] - 76s 778ms/step - loss: 0.1475 - accuracy: 0.9547 - val_loss: 0.7778 - val_accuracy: 0.8101\n",
            "Epoch 16/20\n",
            "98/98 [==============================] - 76s 773ms/step - loss: 0.1422 - accuracy: 0.9564 - val_loss: 0.7815 - val_accuracy: 0.8152\n",
            "Epoch 17/20\n",
            "98/98 [==============================] - 75s 768ms/step - loss: 0.1377 - accuracy: 0.9578 - val_loss: 0.8062 - val_accuracy: 0.8098\n",
            "Epoch 18/20\n",
            "98/98 [==============================] - 76s 772ms/step - loss: 0.1354 - accuracy: 0.9579 - val_loss: 0.8535 - val_accuracy: 0.8001\n",
            "Epoch 19/20\n",
            "98/98 [==============================] - 76s 777ms/step - loss: 0.1325 - accuracy: 0.9592 - val_loss: 0.8266 - val_accuracy: 0.8105\n",
            "Epoch 20/20\n",
            "98/98 [==============================] - 72s 733ms/step - loss: 0.1282 - accuracy: 0.9602 - val_loss: 0.8329 - val_accuracy: 0.8130\n"
          ]
        },
        {
          "data": {
            "text/plain": [
              "<keras.callbacks.History at 0x7f294c634b90>"
            ]
          },
          "execution_count": 23,
          "metadata": {},
          "output_type": "execute_result"
        }
      ],
      "source": [
        "optimizer = keras.optimizers.Nadam(learning_rate=1e-3)\n",
        "model.compile(loss=\"sparse_categorical_crossentropy\", optimizer=optimizer,\n",
        "              metrics=[\"accuracy\"])\n",
        "model.fit(train_set, epochs=20, validation_data=valid_set)"
      ]
    },
    {
      "cell_type": "code",
      "execution_count": null,
      "metadata": {
        "id": "jt0Stp0QUQbM"
      },
      "outputs": [],
      "source": [
        "model.save(\"my_bach_model.h5\")\n",
        "model.evaluate(test_set)"
      ]
    },
    {
      "cell_type": "code",
      "execution_count": null,
      "metadata": {
        "id": "6mvGD99mUQdu"
      },
      "outputs": [],
      "source": []
    },
    {
      "cell_type": "code",
      "execution_count": null,
      "metadata": {
        "id": "AGokH-WYUQgi"
      },
      "outputs": [],
      "source": []
    }
  ],
  "metadata": {
    "colab": {
      "name": "chorales.ipynb",
      "provenance": []
    },
    "kernelspec": {
      "display_name": "Python 3",
      "name": "python3"
    },
    "language_info": {
      "name": "python"
    }
  },
  "nbformat": 4,
  "nbformat_minor": 0
}